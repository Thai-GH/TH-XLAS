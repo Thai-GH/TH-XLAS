{
 "cells": [
  {
   "cell_type": "code",
   "execution_count": 2,
   "id": "36ef2d7d",
   "metadata": {},
   "outputs": [
    {
     "data": {
      "image/png": "[encoded data removed]",
      "text/plain": [
       "<Figure size 640x480 with 1 Axes>"
      ]
     },
     "metadata": {},
     "output_type": "display_data"
    }
   ],
   "source": [
    "#1.\n",
    "import imageio.v2 as iio\n",
    "import numpy as np\n",
    "import matplotlib.pyplot as plt\n",
    "import cv2\n",
    "\n",
    "# Đọc ảnh\n",
    "img = iio.imread('exercise/colorful-ripe-tropical-fruits.jpg')\n",
    "\n",
    "# Cắt kiwi (giả sử tọa độ đã xác định)\n",
    "kiwi = img[100:200, 150:250]\n",
    "\n",
    "# Ma trận tịnh tiến sang phải 30 pixels\n",
    "M = np.float32([[1, 0, 30], [0, 1, 0]])\n",
    "translated_kiwi = cv2.warpAffine(kiwi, M, (kiwi.shape[1] + 30, kiwi.shape[0]))\n",
    "\n",
    "# Hiển thị\n",
    "plt.imshow(translated_kiwi)\n",
    "plt.axis('off')\n",
    "plt.show()\n",
    "\n",
    "# Lưu lại\n",
    "iio.imwrite('kiwi_translated.jpg', translated_kiwi)\n"
   ]
  },
  {
   "cell_type": "code",
   "execution_count": 3,
   "id": "8997f214",
   "metadata": {},
   "outputs": [],
   "source": [
    "#2.\n",
    "img = iio.imread('exercise/colorful-ripe-tropical-fruits.jpg')\n",
    "\n",
    "# Cắt đu đủ và dưa hấu (giả sử tọa độ)\n",
    "papaya = img[100:200, 50:150]\n",
    "watermelon = img[220:320, 100:200]\n",
    "\n",
    "# Đổi màu bằng cách đảo kênh màu (ví dụ: RGB -> BGR)\n",
    "papaya_swapped = papaya[:, :, ::-1]\n",
    "watermelon_swapped = watermelon[:, :, ::-1]\n",
    "\n",
    "# Lưu lại\n",
    "iio.imwrite('papaya_color_changed.jpg', papaya_swapped)\n",
    "iio.imwrite('watermelon_color_changed.jpg', watermelon_swapped)\n"
   ]
  },
  {
   "cell_type": "code",
   "execution_count": 5,
   "id": "76786375",
   "metadata": {},
   "outputs": [],
   "source": [
    "#3.\n",
    "img = iio.imread('exercise/quang_ninh.jpg')\n",
    "\n",
    "# Cắt núi và thuyền (giả sử tọa độ)\n",
    "mountain = img[50:200, 100:300]\n",
    "boat = img[220:300, 150:250]\n",
    "\n",
    "# Xoay ảnh 45 độ quanh tâm\n",
    "def rotate_image(image, angle):\n",
    "    (h, w) = image.shape[:2]\n",
    "    center = (w // 2, h // 2)\n",
    "    M = cv2.getRotationMatrix2D(center, angle, 1.0)\n",
    "    rotated = cv2.warpAffine(image, M, (w, h))\n",
    "    return rotated\n",
    "\n",
    "rotated_mountain = rotate_image(mountain, 45)\n",
    "rotated_boat = rotate_image(boat, 45)\n",
    "\n",
    "# Lưu lại\n",
    "iio.imwrite('mountain_rotated.jpg', rotated_mountain)\n",
    "iio.imwrite('boat_rotated.jpg', rotated_boat)\n"
   ]
  },
  {
   "cell_type": "code",
   "execution_count": null,
   "id": "2c36451c",
   "metadata": {},
   "outputs": [],
   "source": [
    "#4.\n",
    "img = iio.imread('exercise/pagoda.jpg')\n",
    "\n",
    "# Cắt ngôi chùa (giả sử tọa độ)\n",
    "pagoda = img[100:200, 100:200]\n",
    "\n",
    "# Phóng to 5 lần\n",
    "resized_pagoda = cv2.resize(pagoda, (0, 0), fx=5, fy=5)\n",
    "\n",
    "# Lưu lại\n",
    "iio.imwrite('pagoda_scaled.jpg', resized_pagoda)\n"
   ]
  },
  {
   "cell_type": "code",
   "execution_count": null,
   "id": "c80c4dae",
   "metadata": {},
   "outputs": [],
   "source": [
    "#5\n",
    "while True:\n",
    "    print(\"\\nMenu:\")\n",
    "    print(\"T - Tịnh tiến\")\n",
    "    print(\"X - Xoay\")\n",
    "    print(\"P - Phóng to\")\n",
    "    print(\"H - Thu nhỏ\")\n",
    "    print(\"C - Coordinate Map\")\n",
    "    print(\"Q - Thoát\")\n",
    "    key = input(\"Chọn thao tác (T/X/P/H/C): \").upper()\n",
    "\n",
    "    if key == 'T':\n",
    "        print(\"Thực hiện tịnh tiến...\")\n",
    "        # Gọi hàm tịnh tiến tương ứng\n",
    "    elif key == 'X':\n",
    "        print(\"Thực hiện xoay ảnh...\")\n",
    "        # Gọi hàm xoay\n",
    "    elif key == 'P':\n",
    "        print(\"Thực hiện phóng to ảnh...\")\n",
    "    elif key == 'H':\n",
    "        print(\"Thực hiện thu nhỏ ảnh...\")\n",
    "    elif key == 'C':\n",
    "        print(\"Thực hiện xem tọa độ...\")\n",
    "    elif key == 'Q':\n",
    "        break\n",
    "    else:\n",
    "        print(\"Lựa chọn không hợp lệ.\")\n"
   ]
  }
 ],
 "metadata": {
  "kernelspec": {
   "display_name": "Python 3",
   "language": "python",
   "name": "python3"
  },
  "language_info": {
   "codemirror_mode": {
    "name": "ipython",
    "version": 3
   },
   "file_extension": ".py",
   "mimetype": "text/x-python",
   "name": "python",
   "nbconvert_exporter": "python",
   "pygments_lexer": "ipython3",
   "version": "3.10.10"
  }
 },
 "nbformat": 4,
 "nbformat_minor": 5
}
